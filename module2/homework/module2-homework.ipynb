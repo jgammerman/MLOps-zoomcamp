{
 "cells": [
  {
   "cell_type": "code",
   "execution_count": 3,
   "id": "5378c9f2",
   "metadata": {},
   "outputs": [
    {
     "name": "stdout",
     "output_type": "stream",
     "text": [
      "Requirement already satisfied: mlflow in /home/ubuntu/anaconda3/envs/exp-tracking-env/lib/python3.9/site-packages (1.26.1)\n",
      "Requirement already satisfied: scipy in /home/ubuntu/anaconda3/envs/exp-tracking-env/lib/python3.9/site-packages (from mlflow) (1.8.1)\n",
      "Requirement already satisfied: protobuf>=3.12.0 in /home/ubuntu/anaconda3/envs/exp-tracking-env/lib/python3.9/site-packages (from mlflow) (4.21.1)\n",
      "Requirement already satisfied: Flask in /home/ubuntu/anaconda3/envs/exp-tracking-env/lib/python3.9/site-packages (from mlflow) (2.1.2)\n",
      "Requirement already satisfied: numpy in /home/ubuntu/anaconda3/envs/exp-tracking-env/lib/python3.9/site-packages (from mlflow) (1.22.4)\n",
      "Requirement already satisfied: pytz in /home/ubuntu/anaconda3/envs/exp-tracking-env/lib/python3.9/site-packages (from mlflow) (2022.1)\n",
      "Requirement already satisfied: alembic in /home/ubuntu/anaconda3/envs/exp-tracking-env/lib/python3.9/site-packages (from mlflow) (1.7.7)\n",
      "Requirement already satisfied: docker>=4.0.0 in /home/ubuntu/anaconda3/envs/exp-tracking-env/lib/python3.9/site-packages (from mlflow) (5.0.3)\n",
      "Requirement already satisfied: importlib-metadata!=4.7.0,>=3.7.0 in /home/ubuntu/anaconda3/envs/exp-tracking-env/lib/python3.9/site-packages (from mlflow) (4.11.4)\n",
      "Requirement already satisfied: gitpython>=2.1.0 in /home/ubuntu/anaconda3/envs/exp-tracking-env/lib/python3.9/site-packages (from mlflow) (3.1.27)\n",
      "Requirement already satisfied: pandas in /home/ubuntu/anaconda3/envs/exp-tracking-env/lib/python3.9/site-packages (from mlflow) (1.4.2)\n",
      "Requirement already satisfied: sqlparse>=0.3.1 in /home/ubuntu/anaconda3/envs/exp-tracking-env/lib/python3.9/site-packages (from mlflow) (0.4.2)\n",
      "Requirement already satisfied: cloudpickle in /home/ubuntu/anaconda3/envs/exp-tracking-env/lib/python3.9/site-packages (from mlflow) (2.1.0)\n",
      "Requirement already satisfied: packaging in /home/ubuntu/anaconda3/envs/exp-tracking-env/lib/python3.9/site-packages (from mlflow) (21.3)\n",
      "Requirement already satisfied: gunicorn in /home/ubuntu/anaconda3/envs/exp-tracking-env/lib/python3.9/site-packages (from mlflow) (20.1.0)\n",
      "Requirement already satisfied: querystring-parser in /home/ubuntu/anaconda3/envs/exp-tracking-env/lib/python3.9/site-packages (from mlflow) (1.2.4)\n",
      "Requirement already satisfied: entrypoints in /home/ubuntu/anaconda3/envs/exp-tracking-env/lib/python3.9/site-packages (from mlflow) (0.4)\n",
      "Requirement already satisfied: databricks-cli>=0.8.7 in /home/ubuntu/anaconda3/envs/exp-tracking-env/lib/python3.9/site-packages (from mlflow) (0.16.6)\n",
      "Requirement already satisfied: sqlalchemy in /home/ubuntu/anaconda3/envs/exp-tracking-env/lib/python3.9/site-packages (from mlflow) (1.4.36)\n",
      "Requirement already satisfied: prometheus-flask-exporter in /home/ubuntu/anaconda3/envs/exp-tracking-env/lib/python3.9/site-packages (from mlflow) (0.20.1)\n",
      "Requirement already satisfied: requests>=2.17.3 in /home/ubuntu/anaconda3/envs/exp-tracking-env/lib/python3.9/site-packages (from mlflow) (2.27.1)\n",
      "Requirement already satisfied: click>=7.0 in /home/ubuntu/anaconda3/envs/exp-tracking-env/lib/python3.9/site-packages (from mlflow) (8.1.3)\n",
      "Requirement already satisfied: pyyaml>=5.1 in /home/ubuntu/anaconda3/envs/exp-tracking-env/lib/python3.9/site-packages (from mlflow) (6.0)\n",
      "Requirement already satisfied: pyjwt>=1.7.0 in /home/ubuntu/anaconda3/envs/exp-tracking-env/lib/python3.9/site-packages (from databricks-cli>=0.8.7->mlflow) (2.4.0)\n",
      "Requirement already satisfied: tabulate>=0.7.7 in /home/ubuntu/anaconda3/envs/exp-tracking-env/lib/python3.9/site-packages (from databricks-cli>=0.8.7->mlflow) (0.8.9)\n",
      "Requirement already satisfied: six>=1.10.0 in /home/ubuntu/anaconda3/envs/exp-tracking-env/lib/python3.9/site-packages (from databricks-cli>=0.8.7->mlflow) (1.16.0)\n",
      "Requirement already satisfied: oauthlib>=3.1.0 in /home/ubuntu/anaconda3/envs/exp-tracking-env/lib/python3.9/site-packages (from databricks-cli>=0.8.7->mlflow) (3.2.0)\n",
      "Requirement already satisfied: websocket-client>=0.32.0 in /home/ubuntu/anaconda3/envs/exp-tracking-env/lib/python3.9/site-packages (from docker>=4.0.0->mlflow) (1.3.2)\n",
      "Requirement already satisfied: gitdb<5,>=4.0.1 in /home/ubuntu/anaconda3/envs/exp-tracking-env/lib/python3.9/site-packages (from gitpython>=2.1.0->mlflow) (4.0.9)\n",
      "Requirement already satisfied: smmap<6,>=3.0.1 in /home/ubuntu/anaconda3/envs/exp-tracking-env/lib/python3.9/site-packages (from gitdb<5,>=4.0.1->gitpython>=2.1.0->mlflow) (5.0.0)\n",
      "Requirement already satisfied: zipp>=0.5 in /home/ubuntu/anaconda3/envs/exp-tracking-env/lib/python3.9/site-packages (from importlib-metadata!=4.7.0,>=3.7.0->mlflow) (3.8.0)\n",
      "Requirement already satisfied: certifi>=2017.4.17 in /home/ubuntu/anaconda3/envs/exp-tracking-env/lib/python3.9/site-packages (from requests>=2.17.3->mlflow) (2022.5.18.1)\n",
      "Requirement already satisfied: urllib3<1.27,>=1.21.1 in /home/ubuntu/anaconda3/envs/exp-tracking-env/lib/python3.9/site-packages (from requests>=2.17.3->mlflow) (1.26.9)\n",
      "Requirement already satisfied: idna<4,>=2.5 in /home/ubuntu/anaconda3/envs/exp-tracking-env/lib/python3.9/site-packages (from requests>=2.17.3->mlflow) (3.3)\n",
      "Requirement already satisfied: charset-normalizer~=2.0.0 in /home/ubuntu/anaconda3/envs/exp-tracking-env/lib/python3.9/site-packages (from requests>=2.17.3->mlflow) (2.0.12)\n",
      "Requirement already satisfied: Mako in /home/ubuntu/anaconda3/envs/exp-tracking-env/lib/python3.9/site-packages (from alembic->mlflow) (1.2.0)\n",
      "Requirement already satisfied: greenlet!=0.4.17 in /home/ubuntu/anaconda3/envs/exp-tracking-env/lib/python3.9/site-packages (from sqlalchemy->mlflow) (1.1.2)\n",
      "Requirement already satisfied: Jinja2>=3.0 in /home/ubuntu/anaconda3/envs/exp-tracking-env/lib/python3.9/site-packages (from Flask->mlflow) (3.1.2)\n",
      "Requirement already satisfied: itsdangerous>=2.0 in /home/ubuntu/anaconda3/envs/exp-tracking-env/lib/python3.9/site-packages (from Flask->mlflow) (2.1.2)\n",
      "Requirement already satisfied: Werkzeug>=2.0 in /home/ubuntu/anaconda3/envs/exp-tracking-env/lib/python3.9/site-packages (from Flask->mlflow) (2.1.2)\n",
      "Requirement already satisfied: MarkupSafe>=2.0 in /home/ubuntu/anaconda3/envs/exp-tracking-env/lib/python3.9/site-packages (from Jinja2>=3.0->Flask->mlflow) (2.1.1)\n",
      "Requirement already satisfied: setuptools>=3.0 in /home/ubuntu/anaconda3/envs/exp-tracking-env/lib/python3.9/site-packages (from gunicorn->mlflow) (61.2.0)\n",
      "Requirement already satisfied: pyparsing!=3.0.5,>=2.0.2 in /home/ubuntu/anaconda3/envs/exp-tracking-env/lib/python3.9/site-packages (from packaging->mlflow) (3.0.9)\n",
      "Requirement already satisfied: python-dateutil>=2.8.1 in /home/ubuntu/anaconda3/envs/exp-tracking-env/lib/python3.9/site-packages (from pandas->mlflow) (2.8.2)\n",
      "Requirement already satisfied: prometheus-client in /home/ubuntu/anaconda3/envs/exp-tracking-env/lib/python3.9/site-packages (from prometheus-flask-exporter->mlflow) (0.14.1)\n",
      "Note: you may need to restart the kernel to use updated packages.\n"
     ]
    }
   ],
   "source": [
    "pip install mlflow"
   ]
  },
  {
   "cell_type": "code",
   "execution_count": 5,
   "id": "ed7da098",
   "metadata": {},
   "outputs": [
    {
     "ename": "NameError",
     "evalue": "name 'version' is not defined",
     "output_type": "error",
     "traceback": [
      "\u001b[0;31m---------------------------------------------------------------------------\u001b[0m",
      "\u001b[0;31mNameError\u001b[0m                                 Traceback (most recent call last)",
      "\u001b[1;32m/home/ubuntu/notebooks/module2/module2-homework.ipynb Cell 3'\u001b[0m in \u001b[0;36m<cell line: 2>\u001b[0;34m()\u001b[0m\n\u001b[1;32m      <a href='vscode-notebook-cell://ssh-remote%2Bec2-3-8-196-212.eu-west-2.compute.amazonaws.com/home/ubuntu/notebooks/module2/module2-homework.ipynb#ch0000002vscode-remote?line=0'>1</a>\u001b[0m \u001b[39mimport\u001b[39;00m \u001b[39mmlflow\u001b[39;00m\n\u001b[0;32m----> <a href='vscode-notebook-cell://ssh-remote%2Bec2-3-8-196-212.eu-west-2.compute.amazonaws.com/home/ubuntu/notebooks/module2/module2-homework.ipynb#ch0000002vscode-remote?line=1'>2</a>\u001b[0m mlflow \u001b[39m-\u001b[39m\u001b[39m-\u001b[39mversion\n",
      "\u001b[0;31mNameError\u001b[0m: name 'version' is not defined"
     ]
    }
   ],
   "source": [
    "import mlflow\n"
   ]
  },
  {
   "cell_type": "code",
   "execution_count": 6,
   "id": "f489f1ce",
   "metadata": {},
   "outputs": [
    {
     "ename": "NameError",
     "evalue": "name 'version' is not defined",
     "output_type": "error",
     "traceback": [
      "\u001b[0;31m---------------------------------------------------------------------------\u001b[0m",
      "\u001b[0;31mNameError\u001b[0m                                 Traceback (most recent call last)",
      "\u001b[1;32m/home/ubuntu/notebooks/module2/module2-homework.ipynb Cell 3'\u001b[0m in \u001b[0;36m<cell line: 1>\u001b[0;34m()\u001b[0m\n\u001b[0;32m----> <a href='vscode-notebook-cell://ssh-remote%2Bec2-3-8-196-212.eu-west-2.compute.amazonaws.com/home/ubuntu/notebooks/module2/module2-homework.ipynb#ch0000003vscode-remote?line=0'>1</a>\u001b[0m mlflow \u001b[39m-\u001b[39m\u001b[39m-\u001b[39mversion\n",
      "\u001b[0;31mNameError\u001b[0m: name 'version' is not defined"
     ]
    }
   ],
   "source": [
    "mlflow --version"
   ]
  },
  {
   "cell_type": "code",
   "execution_count": null,
   "id": "3dc8db4e",
   "metadata": {},
   "outputs": [],
   "source": []
  }
 ],
 "metadata": {
  "interpreter": {
   "hash": "28b64ab469a48a0c250e8d59bd611e7be18157868e9c55fbe8ccf7861d9bf740"
  },
  "kernelspec": {
   "display_name": "Python 3.9.12 ('exp-tracking-env')",
   "language": "python",
   "name": "python3"
  },
  "language_info": {
   "codemirror_mode": {
    "name": "ipython",
    "version": 3
   },
   "file_extension": ".py",
   "mimetype": "text/x-python",
   "name": "python",
   "nbconvert_exporter": "python",
   "pygments_lexer": "ipython3",
   "version": "3.9.12"
  }
 },
 "nbformat": 4,
 "nbformat_minor": 5
}
